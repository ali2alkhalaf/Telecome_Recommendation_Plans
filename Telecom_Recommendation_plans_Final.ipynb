{
  "nbformat": 4,
  "nbformat_minor": 0,
  "metadata": {
    "colab": {
      "name": "Telecom_Recommendation_plans_Final.ipynb",
      "provenance": [],
      "collapsed_sections": []
    },
    "kernelspec": {
      "name": "python3",
      "display_name": "Python 3"
    },
    "language_info": {
      "name": "python"
    }
  },
  "cells": [
    {
      "cell_type": "markdown",
      "source": [
        "## Telecom Company Plans Recommendation System\n",
        "Ali Alkhalaf\n",
        "\n",
        "\n",
        "---\n",
        "\n"
      ],
      "metadata": {
        "id": "0ooVzQ1UV4lK"
      }
    },
    {
      "cell_type": "markdown",
      "source": [
        "#objective\n",
        "The aim of this project is to recommend a subscription plan to new customers of the Teleco Company\n",
        "This project will help the company to best run its plans’ marketing campaign and target the right customers\n",
        "\n",
        "\n",
        "---\n",
        "\n"
      ],
      "metadata": {
        "id": "lF3F0EXwWhRF"
      }
    },
    {
      "cell_type": "markdown",
      "source": [
        "Importing the required packagies\n",
        "\n",
        "\n",
        "---\n",
        "\n"
      ],
      "metadata": {
        "id": "cgzvVr5XXoUF"
      }
    },
    {
      "cell_type": "code",
      "execution_count": 1,
      "metadata": {
        "id": "Kb_g_zDdU0Zu"
      },
      "outputs": [],
      "source": [
        "import numpy as np\n",
        "import pandas as pd\n",
        "import matplotlib.pyplot as plt\n",
        "import seaborn as sns\n",
        "from sklearn.preprocessing import LabelEncoder\n",
        "from sklearn.metrics import roc_auc_score, plot_roc_curve\n",
        "from sklearn.linear_model import LogisticRegressionCV\n",
        "from sklearn.linear_model import LogisticRegression\n",
        "\n",
        "le = LabelEncoder()\n",
        "\n",
        "sns.set()"
      ]
    },
    {
      "cell_type": "markdown",
      "source": [
        "Reading the dataset using Pandas\n",
        "\n",
        "\n",
        "---\n",
        "\n"
      ],
      "metadata": {
        "id": "VdRl7dSLXvqE"
      }
    },
    {
      "cell_type": "code",
      "source": [
        "df1 = pd.read_csv(\"customer_churn.csv\")\n",
        "df1.head(2)"
      ],
      "metadata": {
        "colab": {
          "base_uri": "https://localhost:8080/",
          "height": 240
        },
        "id": "L4jMxH7BhaZE",
        "outputId": "0411bd72-e553-4bc4-a953-103590bc7795"
      },
      "execution_count": 2,
      "outputs": [
        {
          "output_type": "execute_result",
          "data": {
            "text/html": [
              "\n",
              "  <div id=\"df-0b7ab257-8b48-464e-823c-15f043296337\">\n",
              "    <div class=\"colab-df-container\">\n",
              "      <div>\n",
              "<style scoped>\n",
              "    .dataframe tbody tr th:only-of-type {\n",
              "        vertical-align: middle;\n",
              "    }\n",
              "\n",
              "    .dataframe tbody tr th {\n",
              "        vertical-align: top;\n",
              "    }\n",
              "\n",
              "    .dataframe thead th {\n",
              "        text-align: right;\n",
              "    }\n",
              "</style>\n",
              "<table border=\"1\" class=\"dataframe\">\n",
              "  <thead>\n",
              "    <tr style=\"text-align: right;\">\n",
              "      <th></th>\n",
              "      <th>customerID</th>\n",
              "      <th>gender</th>\n",
              "      <th>SeniorCitizen</th>\n",
              "      <th>Partner</th>\n",
              "      <th>Dependents</th>\n",
              "      <th>tenure</th>\n",
              "      <th>PhoneService</th>\n",
              "      <th>MultipleLines</th>\n",
              "      <th>InternetService</th>\n",
              "      <th>OnlineSecurity</th>\n",
              "      <th>...</th>\n",
              "      <th>DeviceProtection</th>\n",
              "      <th>TechSupport</th>\n",
              "      <th>StreamingTV</th>\n",
              "      <th>StreamingMovies</th>\n",
              "      <th>Contract</th>\n",
              "      <th>PaperlessBilling</th>\n",
              "      <th>PaymentMethod</th>\n",
              "      <th>MonthlyCharges</th>\n",
              "      <th>TotalCharges</th>\n",
              "      <th>Churn</th>\n",
              "    </tr>\n",
              "  </thead>\n",
              "  <tbody>\n",
              "    <tr>\n",
              "      <th>0</th>\n",
              "      <td>7590-VHVEG</td>\n",
              "      <td>Female</td>\n",
              "      <td>0</td>\n",
              "      <td>Yes</td>\n",
              "      <td>No</td>\n",
              "      <td>1</td>\n",
              "      <td>No</td>\n",
              "      <td>No phone service</td>\n",
              "      <td>DSL</td>\n",
              "      <td>No</td>\n",
              "      <td>...</td>\n",
              "      <td>No</td>\n",
              "      <td>No</td>\n",
              "      <td>No</td>\n",
              "      <td>No</td>\n",
              "      <td>Month-to-month</td>\n",
              "      <td>Yes</td>\n",
              "      <td>Electronic check</td>\n",
              "      <td>29.85</td>\n",
              "      <td>29.85</td>\n",
              "      <td>No</td>\n",
              "    </tr>\n",
              "    <tr>\n",
              "      <th>1</th>\n",
              "      <td>5575-GNVDE</td>\n",
              "      <td>Male</td>\n",
              "      <td>0</td>\n",
              "      <td>No</td>\n",
              "      <td>No</td>\n",
              "      <td>34</td>\n",
              "      <td>Yes</td>\n",
              "      <td>No</td>\n",
              "      <td>DSL</td>\n",
              "      <td>Yes</td>\n",
              "      <td>...</td>\n",
              "      <td>Yes</td>\n",
              "      <td>No</td>\n",
              "      <td>No</td>\n",
              "      <td>No</td>\n",
              "      <td>One year</td>\n",
              "      <td>No</td>\n",
              "      <td>Mailed check</td>\n",
              "      <td>56.95</td>\n",
              "      <td>1889.5</td>\n",
              "      <td>No</td>\n",
              "    </tr>\n",
              "  </tbody>\n",
              "</table>\n",
              "<p>2 rows × 21 columns</p>\n",
              "</div>\n",
              "      <button class=\"colab-df-convert\" onclick=\"convertToInteractive('df-0b7ab257-8b48-464e-823c-15f043296337')\"\n",
              "              title=\"Convert this dataframe to an interactive table.\"\n",
              "              style=\"display:none;\">\n",
              "        \n",
              "  <svg xmlns=\"http://www.w3.org/2000/svg\" height=\"24px\"viewBox=\"0 0 24 24\"\n",
              "       width=\"24px\">\n",
              "    <path d=\"M0 0h24v24H0V0z\" fill=\"none\"/>\n",
              "    <path d=\"M18.56 5.44l.94 2.06.94-2.06 2.06-.94-2.06-.94-.94-2.06-.94 2.06-2.06.94zm-11 1L8.5 8.5l.94-2.06 2.06-.94-2.06-.94L8.5 2.5l-.94 2.06-2.06.94zm10 10l.94 2.06.94-2.06 2.06-.94-2.06-.94-.94-2.06-.94 2.06-2.06.94z\"/><path d=\"M17.41 7.96l-1.37-1.37c-.4-.4-.92-.59-1.43-.59-.52 0-1.04.2-1.43.59L10.3 9.45l-7.72 7.72c-.78.78-.78 2.05 0 2.83L4 21.41c.39.39.9.59 1.41.59.51 0 1.02-.2 1.41-.59l7.78-7.78 2.81-2.81c.8-.78.8-2.07 0-2.86zM5.41 20L4 18.59l7.72-7.72 1.47 1.35L5.41 20z\"/>\n",
              "  </svg>\n",
              "      </button>\n",
              "      \n",
              "  <style>\n",
              "    .colab-df-container {\n",
              "      display:flex;\n",
              "      flex-wrap:wrap;\n",
              "      gap: 12px;\n",
              "    }\n",
              "\n",
              "    .colab-df-convert {\n",
              "      background-color: #E8F0FE;\n",
              "      border: none;\n",
              "      border-radius: 50%;\n",
              "      cursor: pointer;\n",
              "      display: none;\n",
              "      fill: #1967D2;\n",
              "      height: 32px;\n",
              "      padding: 0 0 0 0;\n",
              "      width: 32px;\n",
              "    }\n",
              "\n",
              "    .colab-df-convert:hover {\n",
              "      background-color: #E2EBFA;\n",
              "      box-shadow: 0px 1px 2px rgba(60, 64, 67, 0.3), 0px 1px 3px 1px rgba(60, 64, 67, 0.15);\n",
              "      fill: #174EA6;\n",
              "    }\n",
              "\n",
              "    [theme=dark] .colab-df-convert {\n",
              "      background-color: #3B4455;\n",
              "      fill: #D2E3FC;\n",
              "    }\n",
              "\n",
              "    [theme=dark] .colab-df-convert:hover {\n",
              "      background-color: #434B5C;\n",
              "      box-shadow: 0px 1px 3px 1px rgba(0, 0, 0, 0.15);\n",
              "      filter: drop-shadow(0px 1px 2px rgba(0, 0, 0, 0.3));\n",
              "      fill: #FFFFFF;\n",
              "    }\n",
              "  </style>\n",
              "\n",
              "      <script>\n",
              "        const buttonEl =\n",
              "          document.querySelector('#df-0b7ab257-8b48-464e-823c-15f043296337 button.colab-df-convert');\n",
              "        buttonEl.style.display =\n",
              "          google.colab.kernel.accessAllowed ? 'block' : 'none';\n",
              "\n",
              "        async function convertToInteractive(key) {\n",
              "          const element = document.querySelector('#df-0b7ab257-8b48-464e-823c-15f043296337');\n",
              "          const dataTable =\n",
              "            await google.colab.kernel.invokeFunction('convertToInteractive',\n",
              "                                                     [key], {});\n",
              "          if (!dataTable) return;\n",
              "\n",
              "          const docLinkHtml = 'Like what you see? Visit the ' +\n",
              "            '<a target=\"_blank\" href=https://colab.research.google.com/notebooks/data_table.ipynb>data table notebook</a>'\n",
              "            + ' to learn more about interactive tables.';\n",
              "          element.innerHTML = '';\n",
              "          dataTable['output_type'] = 'display_data';\n",
              "          await google.colab.output.renderOutput(dataTable, element);\n",
              "          const docLink = document.createElement('div');\n",
              "          docLink.innerHTML = docLinkHtml;\n",
              "          element.appendChild(docLink);\n",
              "        }\n",
              "      </script>\n",
              "    </div>\n",
              "  </div>\n",
              "  "
            ],
            "text/plain": [
              "   customerID  gender  SeniorCitizen Partner Dependents  tenure PhoneService  \\\n",
              "0  7590-VHVEG  Female              0     Yes         No       1           No   \n",
              "1  5575-GNVDE    Male              0      No         No      34          Yes   \n",
              "\n",
              "      MultipleLines InternetService OnlineSecurity  ... DeviceProtection  \\\n",
              "0  No phone service             DSL             No  ...               No   \n",
              "1                No             DSL            Yes  ...              Yes   \n",
              "\n",
              "  TechSupport StreamingTV StreamingMovies        Contract PaperlessBilling  \\\n",
              "0          No          No              No  Month-to-month              Yes   \n",
              "1          No          No              No        One year               No   \n",
              "\n",
              "      PaymentMethod MonthlyCharges  TotalCharges Churn  \n",
              "0  Electronic check          29.85         29.85    No  \n",
              "1      Mailed check          56.95        1889.5    No  \n",
              "\n",
              "[2 rows x 21 columns]"
            ]
          },
          "metadata": {},
          "execution_count": 2
        }
      ]
    },
    {
      "cell_type": "markdown",
      "source": [
        "Data Exploration\n",
        "\n",
        "---\n",
        "\n"
      ],
      "metadata": {
        "id": "4B3aYzlNwSDf"
      }
    },
    {
      "cell_type": "code",
      "source": [
        "df1.isnull().sum()"
      ],
      "metadata": {
        "colab": {
          "base_uri": "https://localhost:8080/"
        },
        "id": "DAOxFcdjwAnW",
        "outputId": "50cc7b95-9817-47e8-8e29-6fa644577141"
      },
      "execution_count": 22,
      "outputs": [
        {
          "output_type": "execute_result",
          "data": {
            "text/plain": [
              "customerID          0\n",
              "gender              0\n",
              "SeniorCitizen       0\n",
              "Partner             0\n",
              "Dependents          0\n",
              "tenure              0\n",
              "PhoneService        0\n",
              "MultipleLines       0\n",
              "InternetService     0\n",
              "OnlineSecurity      0\n",
              "OnlineBackup        0\n",
              "DeviceProtection    0\n",
              "TechSupport         0\n",
              "StreamingTV         0\n",
              "StreamingMovies     0\n",
              "Contract            0\n",
              "PaperlessBilling    0\n",
              "PaymentMethod       0\n",
              "MonthlyCharges      0\n",
              "TotalCharges        0\n",
              "Churn               0\n",
              "dtype: int64"
            ]
          },
          "metadata": {},
          "execution_count": 22
        }
      ]
    },
    {
      "cell_type": "code",
      "source": [
        "df1.info"
      ],
      "metadata": {
        "colab": {
          "base_uri": "https://localhost:8080/"
        },
        "id": "aJUz2Y48woBO",
        "outputId": "e76de59b-2ac7-45bf-920f-f7e396337a82"
      },
      "execution_count": 25,
      "outputs": [
        {
          "output_type": "execute_result",
          "data": {
            "text/plain": [
              "<bound method DataFrame.info of       customerID  gender        SeniorCitizen         Partner  \\\n",
              "0     7590-VHVEG  Female  Not a SeniorCitizen   Has a Partner   \n",
              "1     5575-GNVDE    Male  Not a SeniorCitizen  Has no Partner   \n",
              "2     3668-QPYBK    Male  Not a SeniorCitizen  Has no Partner   \n",
              "3     7795-CFOCW    Male  Not a SeniorCitizen  Has no Partner   \n",
              "4     9237-HQITU  Female  Not a SeniorCitizen  Has no Partner   \n",
              "...          ...     ...                  ...             ...   \n",
              "7038  6840-RESVB    Male  Not a SeniorCitizen   Has a Partner   \n",
              "7039  2234-XADUH  Female  Not a SeniorCitizen   Has a Partner   \n",
              "7040  4801-JZAZL  Female  Not a SeniorCitizen   Has a Partner   \n",
              "7041  8361-LTMKD    Male        SeniorCitizen   Has a Partner   \n",
              "7042  3186-AJIEK    Male  Not a SeniorCitizen  Has no Partner   \n",
              "\n",
              "             Dependents  tenure PhoneService     MultipleLines  \\\n",
              "0     Has no Dependents       1           No  No phone service   \n",
              "1     Has no Dependents      34          Yes                No   \n",
              "2     Has no Dependents       2          Yes                No   \n",
              "3     Has no Dependents      45           No  No phone service   \n",
              "4     Has no Dependents       2          Yes                No   \n",
              "...                 ...     ...          ...               ...   \n",
              "7038     Has Dependents      24          Yes               Yes   \n",
              "7039     Has Dependents      72          Yes               Yes   \n",
              "7040     Has Dependents      11           No  No phone service   \n",
              "7041  Has no Dependents       4          Yes               Yes   \n",
              "7042  Has no Dependents      66          Yes                No   \n",
              "\n",
              "     InternetService OnlineSecurity  ... DeviceProtection TechSupport  \\\n",
              "0                DSL             No  ...               No          No   \n",
              "1                DSL            Yes  ...              Yes          No   \n",
              "2                DSL            Yes  ...               No          No   \n",
              "3                DSL            Yes  ...              Yes         Yes   \n",
              "4        Fiber optic             No  ...               No          No   \n",
              "...              ...            ...  ...              ...         ...   \n",
              "7038             DSL            Yes  ...              Yes         Yes   \n",
              "7039     Fiber optic             No  ...              Yes          No   \n",
              "7040             DSL            Yes  ...               No          No   \n",
              "7041     Fiber optic             No  ...               No          No   \n",
              "7042     Fiber optic            Yes  ...              Yes         Yes   \n",
              "\n",
              "     StreamingTV StreamingMovies        Contract PaperlessBilling  \\\n",
              "0             No              No  Month-to-month              Yes   \n",
              "1             No              No        One year               No   \n",
              "2             No              No  Month-to-month              Yes   \n",
              "3             No              No        One year               No   \n",
              "4             No              No  Month-to-month              Yes   \n",
              "...          ...             ...             ...              ...   \n",
              "7038         Yes             Yes        One year              Yes   \n",
              "7039         Yes             Yes        One year              Yes   \n",
              "7040          No              No  Month-to-month              Yes   \n",
              "7041          No              No  Month-to-month              Yes   \n",
              "7042         Yes             Yes        Two year              Yes   \n",
              "\n",
              "                  PaymentMethod MonthlyCharges  TotalCharges Churn  \n",
              "0              Electronic check          29.85         29.85    No  \n",
              "1                  Mailed check          56.95        1889.5    No  \n",
              "2                  Mailed check          53.85        108.15   Yes  \n",
              "3     Bank transfer (automatic)          42.30       1840.75    No  \n",
              "4              Electronic check          70.70        151.65   Yes  \n",
              "...                         ...            ...           ...   ...  \n",
              "7038               Mailed check          84.80        1990.5    No  \n",
              "7039    Credit card (automatic)         103.20        7362.9    No  \n",
              "7040           Electronic check          29.60        346.45    No  \n",
              "7041               Mailed check          74.40         306.6   Yes  \n",
              "7042  Bank transfer (automatic)         105.65        6844.5    No  \n",
              "\n",
              "[7043 rows x 21 columns]>"
            ]
          },
          "metadata": {},
          "execution_count": 25
        }
      ]
    },
    {
      "cell_type": "code",
      "source": [
        "df1.dtypes"
      ],
      "metadata": {
        "colab": {
          "base_uri": "https://localhost:8080/"
        },
        "id": "Hboi2nfywq0B",
        "outputId": "ff0726d0-4446-4d26-b22e-af8647bb9274"
      },
      "execution_count": 26,
      "outputs": [
        {
          "output_type": "execute_result",
          "data": {
            "text/plain": [
              "customerID           object\n",
              "gender               object\n",
              "SeniorCitizen        object\n",
              "Partner              object\n",
              "Dependents           object\n",
              "tenure                int64\n",
              "PhoneService         object\n",
              "MultipleLines        object\n",
              "InternetService      object\n",
              "OnlineSecurity       object\n",
              "OnlineBackup         object\n",
              "DeviceProtection     object\n",
              "TechSupport          object\n",
              "StreamingTV          object\n",
              "StreamingMovies      object\n",
              "Contract             object\n",
              "PaperlessBilling     object\n",
              "PaymentMethod        object\n",
              "MonthlyCharges      float64\n",
              "TotalCharges         object\n",
              "Churn                object\n",
              "dtype: object"
            ]
          },
          "metadata": {},
          "execution_count": 26
        }
      ]
    },
    {
      "cell_type": "markdown",
      "source": [
        "## Data Demographics Visualization\n",
        "\n",
        "\n",
        "---\n",
        "\n"
      ],
      "metadata": {
        "id": "S-9Fd666Vkyh"
      }
    },
    {
      "cell_type": "code",
      "source": [
        "df1.groupby('gender').size().plot(kind='pie', autopct='%.2f')"
      ],
      "metadata": {
        "colab": {
          "base_uri": "https://localhost:8080/",
          "height": 265
        },
        "id": "JP7eqM0DSXgH",
        "outputId": "0224981a-de6a-4a71-c64d-2bd3f16f9ee5"
      },
      "execution_count": 3,
      "outputs": [
        {
          "output_type": "execute_result",
          "data": {
            "text/plain": [
              "<matplotlib.axes._subplots.AxesSubplot at 0x7fcf3f76ebd0>"
            ]
          },
          "metadata": {},
          "execution_count": 3
        },
        {
          "output_type": "display_data",
          "data": {
            "image/png": "[encoded data removed]",
            "text/plain": [
              "<Figure size 432x288 with 1 Axes>"
            ]
          },
          "metadata": {}
        }
      ]
    },
    {
      "cell_type": "markdown",
      "source": [
        "Encoding SeniorCitizen into tow categories:  \n",
        "\n",
        "*   The 0 to be Not a SeniorCitizen.\n",
        "*   The 1 to be a SeniorCitizen.\n",
        "\n",
        "Then plot this column using a pie chart\n",
        "\n",
        "\n",
        "---\n",
        "\n"
      ],
      "metadata": {
        "id": "VL-Tu22MYLRr"
      }
    },
    {
      "cell_type": "code",
      "source": [
        "df1['SeniorCitizen'].replace([0], 'Not a SeniorCitizen', inplace=True)\n",
        "df1['SeniorCitizen'].replace([1], 'SeniorCitizen', inplace=True)"
      ],
      "metadata": {
        "id": "mVXAiz2BSkXL"
      },
      "execution_count": 5,
      "outputs": []
    },
    {
      "cell_type": "code",
      "source": [
        "df1.groupby('SeniorCitizen').size().plot(kind='pie', autopct='%.2f')"
      ],
      "metadata": {
        "colab": {
          "base_uri": "https://localhost:8080/",
          "height": 265
        },
        "id": "FRiHuLeQSl6G",
        "outputId": "0b422c66-3ea8-4c6a-bb3d-6e53d7e8fdda"
      },
      "execution_count": 6,
      "outputs": [
        {
          "output_type": "execute_result",
          "data": {
            "text/plain": [
              "<matplotlib.axes._subplots.AxesSubplot at 0x7fcf3fa45590>"
            ]
          },
          "metadata": {},
          "execution_count": 6
        },
        {
          "output_type": "display_data",
          "data": {
            "image/png": "[encoded data removed]",
            "text/plain": [
              "<Figure size 432x288 with 1 Axes>"
            ]
          },
          "metadata": {}
        }
      ]
    },
    {
      "cell_type": "markdown",
      "source": [
        "Encoding Partner into tow categories:  \n",
        "\n",
        "*   The 0 to be Has no partner\n",
        "*   The 1 to be Has partner\n",
        "\n",
        "Then plot this column using a pie chart\n",
        "\n",
        "\n",
        "---\n",
        "\n"
      ],
      "metadata": {
        "id": "jcZ_-3dbYqXt"
      }
    },
    {
      "cell_type": "code",
      "source": [
        "df1['Partner'].replace(['Yes'], 'Has a Partner', inplace=True)\n",
        "df1['Partner'].replace(['No'], 'Has no Partner', inplace=True)"
      ],
      "metadata": {
        "id": "7IACAKnjTMz0"
      },
      "execution_count": 7,
      "outputs": []
    },
    {
      "cell_type": "code",
      "source": [
        ""
      ],
      "metadata": {
        "id": "bJgMG-N0ZSVd"
      },
      "execution_count": null,
      "outputs": []
    },
    {
      "cell_type": "code",
      "source": [
        "df1.groupby('Partner').size().plot(kind='pie', autopct='%.2f')"
      ],
      "metadata": {
        "colab": {
          "base_uri": "https://localhost:8080/",
          "height": 265
        },
        "id": "R54DZjWsTMlL",
        "outputId": "1e17f086-35e6-43ad-b7cc-0ed44ca13569"
      },
      "execution_count": 8,
      "outputs": [
        {
          "output_type": "execute_result",
          "data": {
            "text/plain": [
              "<matplotlib.axes._subplots.AxesSubplot at 0x7fcf3f107190>"
            ]
          },
          "metadata": {},
          "execution_count": 8
        },
        {
          "output_type": "display_data",
          "data": {
            "image/png": "[encoded data removed]",
            "text/plain": [
              "<Figure size 432x288 with 1 Axes>"
            ]
          },
          "metadata": {}
        }
      ]
    },
    {
      "cell_type": "markdown",
      "source": [
        "Encoding Dependents into tow categories:  \n",
        "\n",
        "*   The 0 to be Has no Dependents\n",
        "*   The 1 to be Has Dependents\n",
        "\n",
        "Then plot this column using a pie chart\n",
        "\n",
        "\n",
        "---\n",
        "\n"
      ],
      "metadata": {
        "id": "Q9nCrsf_Z1UK"
      }
    },
    {
      "cell_type": "code",
      "source": [
        "df1['Dependents'].replace(['Yes'], 'Has Dependents', inplace=True)\n",
        "df1['Dependents'].replace(['No'], 'Has no Dependents', inplace=True)\n"
      ],
      "metadata": {
        "id": "YCzTG3p8Tiob"
      },
      "execution_count": 9,
      "outputs": []
    },
    {
      "cell_type": "code",
      "source": [
        "df1.groupby('Dependents').size().plot(kind='pie', autopct='%.2f')"
      ],
      "metadata": {
        "colab": {
          "base_uri": "https://localhost:8080/",
          "height": 265
        },
        "id": "5dOi90nUTkb7",
        "outputId": "c0b63d23-c31a-479f-a94f-ba6c69e6383c"
      },
      "execution_count": 10,
      "outputs": [
        {
          "output_type": "execute_result",
          "data": {
            "text/plain": [
              "<matplotlib.axes._subplots.AxesSubplot at 0x7fcf3f082dd0>"
            ]
          },
          "metadata": {},
          "execution_count": 10
        },
        {
          "output_type": "display_data",
          "data": {
            "image/png": "[encoded data removed]",
            "text/plain": [
              "<Figure size 432x288 with 1 Axes>"
            ]
          },
          "metadata": {}
        }
      ]
    },
    {
      "cell_type": "code",
      "source": [
        "df5 = pd.read_csv(\"teleco_customers_P7.csv\")\n",
        "df5.head(3)"
      ],
      "metadata": {
        "id": "YiP-xPe0UACz"
      },
      "execution_count": null,
      "outputs": []
    },
    {
      "cell_type": "markdown",
      "source": [
        "Plot the plans into a pie chart. We have tow plans:\n",
        "\n",
        "\n",
        "*   Plan A: has all the services\n",
        "*   Plan B: has only a phone service\n",
        "\n",
        "\n",
        "---\n",
        "\n",
        "\n",
        "\n"
      ],
      "metadata": {
        "id": "5tdYvtHXaIgw"
      }
    },
    {
      "cell_type": "code",
      "source": [
        "df5.groupby('Plan').size().plot(kind='pie', autopct='%.2f')"
      ],
      "metadata": {
        "colab": {
          "base_uri": "https://localhost:8080/",
          "height": 265
        },
        "id": "a8F6QdkgUEVS",
        "outputId": "11c292e1-961c-45c0-b5d9-57c3bbbd534c"
      },
      "execution_count": 13,
      "outputs": [
        {
          "output_type": "execute_result",
          "data": {
            "text/plain": [
              "<matplotlib.axes._subplots.AxesSubplot at 0x7fcf3ea95610>"
            ]
          },
          "metadata": {},
          "execution_count": 13
        },
        {
          "output_type": "display_data",
          "data": {
            "image/png": "[encoded data removed]",
            "text/plain": [
              "<Figure size 432x288 with 1 Axes>"
            ]
          },
          "metadata": {}
        }
      ]
    },
    {
      "cell_type": "code",
      "source": [
        "df = pd.read_csv(\"teleco_customers_P71.csv\")"
      ],
      "metadata": {
        "id": "xBUYrjReVDIe"
      },
      "execution_count": 15,
      "outputs": []
    },
    {
      "cell_type": "code",
      "source": [
        "df.shape"
      ],
      "metadata": {
        "colab": {
          "base_uri": "https://localhost:8080/"
        },
        "id": "7yqz555DUl4Q",
        "outputId": "1bd4eef7-2b6e-4ff7-d4c8-53656d063ee9"
      },
      "execution_count": 16,
      "outputs": [
        {
          "output_type": "execute_result",
          "data": {
            "text/plain": [
              "(7043, 5)"
            ]
          },
          "metadata": {},
          "execution_count": 16
        }
      ]
    },
    {
      "cell_type": "code",
      "source": [
        "df.head()"
      ],
      "metadata": {
        "id": "pvQgw_HBCldl",
        "colab": {
          "base_uri": "https://localhost:8080/",
          "height": 206
        },
        "outputId": "1c67a006-5a5e-414a-8d57-5d3048a58210"
      },
      "execution_count": 19,
      "outputs": [
        {
          "output_type": "execute_result",
          "data": {
            "text/html": [
              "\n",
              "  <div id=\"df-09121c4b-8bdc-4fa5-b863-880aef5a878a\">\n",
              "    <div class=\"colab-df-container\">\n",
              "      <div>\n",
              "<style scoped>\n",
              "    .dataframe tbody tr th:only-of-type {\n",
              "        vertical-align: middle;\n",
              "    }\n",
              "\n",
              "    .dataframe tbody tr th {\n",
              "        vertical-align: top;\n",
              "    }\n",
              "\n",
              "    .dataframe thead th {\n",
              "        text-align: right;\n",
              "    }\n",
              "</style>\n",
              "<table border=\"1\" class=\"dataframe\">\n",
              "  <thead>\n",
              "    <tr style=\"text-align: right;\">\n",
              "      <th></th>\n",
              "      <th>gender</th>\n",
              "      <th>SenioCitizen</th>\n",
              "      <th>Partner</th>\n",
              "      <th>Dependents</th>\n",
              "      <th>Plan</th>\n",
              "    </tr>\n",
              "  </thead>\n",
              "  <tbody>\n",
              "    <tr>\n",
              "      <th>0</th>\n",
              "      <td>0</td>\n",
              "      <td>0</td>\n",
              "      <td>1</td>\n",
              "      <td>0</td>\n",
              "      <td>B</td>\n",
              "    </tr>\n",
              "    <tr>\n",
              "      <th>1</th>\n",
              "      <td>1</td>\n",
              "      <td>0</td>\n",
              "      <td>0</td>\n",
              "      <td>0</td>\n",
              "      <td>A</td>\n",
              "    </tr>\n",
              "    <tr>\n",
              "      <th>2</th>\n",
              "      <td>1</td>\n",
              "      <td>0</td>\n",
              "      <td>0</td>\n",
              "      <td>0</td>\n",
              "      <td>A</td>\n",
              "    </tr>\n",
              "    <tr>\n",
              "      <th>3</th>\n",
              "      <td>1</td>\n",
              "      <td>0</td>\n",
              "      <td>0</td>\n",
              "      <td>0</td>\n",
              "      <td>B</td>\n",
              "    </tr>\n",
              "    <tr>\n",
              "      <th>4</th>\n",
              "      <td>0</td>\n",
              "      <td>0</td>\n",
              "      <td>0</td>\n",
              "      <td>0</td>\n",
              "      <td>A</td>\n",
              "    </tr>\n",
              "  </tbody>\n",
              "</table>\n",
              "</div>\n",
              "      <button class=\"colab-df-convert\" onclick=\"convertToInteractive('df-09121c4b-8bdc-4fa5-b863-880aef5a878a')\"\n",
              "              title=\"Convert this dataframe to an interactive table.\"\n",
              "              style=\"display:none;\">\n",
              "        \n",
              "  <svg xmlns=\"http://www.w3.org/2000/svg\" height=\"24px\"viewBox=\"0 0 24 24\"\n",
              "       width=\"24px\">\n",
              "    <path d=\"M0 0h24v24H0V0z\" fill=\"none\"/>\n",
              "    <path d=\"M18.56 5.44l.94 2.06.94-2.06 2.06-.94-2.06-.94-.94-2.06-.94 2.06-2.06.94zm-11 1L8.5 8.5l.94-2.06 2.06-.94-2.06-.94L8.5 2.5l-.94 2.06-2.06.94zm10 10l.94 2.06.94-2.06 2.06-.94-2.06-.94-.94-2.06-.94 2.06-2.06.94z\"/><path d=\"M17.41 7.96l-1.37-1.37c-.4-.4-.92-.59-1.43-.59-.52 0-1.04.2-1.43.59L10.3 9.45l-7.72 7.72c-.78.78-.78 2.05 0 2.83L4 21.41c.39.39.9.59 1.41.59.51 0 1.02-.2 1.41-.59l7.78-7.78 2.81-2.81c.8-.78.8-2.07 0-2.86zM5.41 20L4 18.59l7.72-7.72 1.47 1.35L5.41 20z\"/>\n",
              "  </svg>\n",
              "      </button>\n",
              "      \n",
              "  <style>\n",
              "    .colab-df-container {\n",
              "      display:flex;\n",
              "      flex-wrap:wrap;\n",
              "      gap: 12px;\n",
              "    }\n",
              "\n",
              "    .colab-df-convert {\n",
              "      background-color: #E8F0FE;\n",
              "      border: none;\n",
              "      border-radius: 50%;\n",
              "      cursor: pointer;\n",
              "      display: none;\n",
              "      fill: #1967D2;\n",
              "      height: 32px;\n",
              "      padding: 0 0 0 0;\n",
              "      width: 32px;\n",
              "    }\n",
              "\n",
              "    .colab-df-convert:hover {\n",
              "      background-color: #E2EBFA;\n",
              "      box-shadow: 0px 1px 2px rgba(60, 64, 67, 0.3), 0px 1px 3px 1px rgba(60, 64, 67, 0.15);\n",
              "      fill: #174EA6;\n",
              "    }\n",
              "\n",
              "    [theme=dark] .colab-df-convert {\n",
              "      background-color: #3B4455;\n",
              "      fill: #D2E3FC;\n",
              "    }\n",
              "\n",
              "    [theme=dark] .colab-df-convert:hover {\n",
              "      background-color: #434B5C;\n",
              "      box-shadow: 0px 1px 3px 1px rgba(0, 0, 0, 0.15);\n",
              "      filter: drop-shadow(0px 1px 2px rgba(0, 0, 0, 0.3));\n",
              "      fill: #FFFFFF;\n",
              "    }\n",
              "  </style>\n",
              "\n",
              "      <script>\n",
              "        const buttonEl =\n",
              "          document.querySelector('#df-09121c4b-8bdc-4fa5-b863-880aef5a878a button.colab-df-convert');\n",
              "        buttonEl.style.display =\n",
              "          google.colab.kernel.accessAllowed ? 'block' : 'none';\n",
              "\n",
              "        async function convertToInteractive(key) {\n",
              "          const element = document.querySelector('#df-09121c4b-8bdc-4fa5-b863-880aef5a878a');\n",
              "          const dataTable =\n",
              "            await google.colab.kernel.invokeFunction('convertToInteractive',\n",
              "                                                     [key], {});\n",
              "          if (!dataTable) return;\n",
              "\n",
              "          const docLinkHtml = 'Like what you see? Visit the ' +\n",
              "            '<a target=\"_blank\" href=https://colab.research.google.com/notebooks/data_table.ipynb>data table notebook</a>'\n",
              "            + ' to learn more about interactive tables.';\n",
              "          element.innerHTML = '';\n",
              "          dataTable['output_type'] = 'display_data';\n",
              "          await google.colab.output.renderOutput(dataTable, element);\n",
              "          const docLink = document.createElement('div');\n",
              "          docLink.innerHTML = docLinkHtml;\n",
              "          element.appendChild(docLink);\n",
              "        }\n",
              "      </script>\n",
              "    </div>\n",
              "  </div>\n",
              "  "
            ],
            "text/plain": [
              "   gender  SenioCitizen  Partner  Dependents Plan\n",
              "0       0             0        1           0    B\n",
              "1       1             0        0           0    A\n",
              "2       1             0        0           0    A\n",
              "3       1             0        0           0    B\n",
              "4       0             0        0           0    A"
            ]
          },
          "metadata": {},
          "execution_count": 19
        }
      ]
    },
    {
      "cell_type": "markdown",
      "source": [
        "Encoding the Plan coulmn so plan A will be 0 and plan B will be 1\n",
        "\n",
        "\n",
        "---\n",
        "\n"
      ],
      "metadata": {
        "id": "fMpkxJunX5Wc"
      }
    },
    {
      "cell_type": "code",
      "source": [
        "df['Plan'] = le.fit_transform(df['Plan'])\n",
        "df.head(3)"
      ],
      "metadata": {
        "colab": {
          "base_uri": "https://localhost:8080/",
          "height": 143
        },
        "id": "TzrJAd3mVcSV",
        "outputId": "f7c51a34-a9bf-4349-d6ca-b832d020ec60"
      },
      "execution_count": 20,
      "outputs": [
        {
          "output_type": "execute_result",
          "data": {
            "text/html": [
              "\n",
              "  <div id=\"df-84d2b58b-b34d-45dc-abc4-1a770766957a\">\n",
              "    <div class=\"colab-df-container\">\n",
              "      <div>\n",
              "<style scoped>\n",
              "    .dataframe tbody tr th:only-of-type {\n",
              "        vertical-align: middle;\n",
              "    }\n",
              "\n",
              "    .dataframe tbody tr th {\n",
              "        vertical-align: top;\n",
              "    }\n",
              "\n",
              "    .dataframe thead th {\n",
              "        text-align: right;\n",
              "    }\n",
              "</style>\n",
              "<table border=\"1\" class=\"dataframe\">\n",
              "  <thead>\n",
              "    <tr style=\"text-align: right;\">\n",
              "      <th></th>\n",
              "      <th>gender</th>\n",
              "      <th>SenioCitizen</th>\n",
              "      <th>Partner</th>\n",
              "      <th>Dependents</th>\n",
              "      <th>Plan</th>\n",
              "    </tr>\n",
              "  </thead>\n",
              "  <tbody>\n",
              "    <tr>\n",
              "      <th>0</th>\n",
              "      <td>0</td>\n",
              "      <td>0</td>\n",
              "      <td>1</td>\n",
              "      <td>0</td>\n",
              "      <td>1</td>\n",
              "    </tr>\n",
              "    <tr>\n",
              "      <th>1</th>\n",
              "      <td>1</td>\n",
              "      <td>0</td>\n",
              "      <td>0</td>\n",
              "      <td>0</td>\n",
              "      <td>0</td>\n",
              "    </tr>\n",
              "    <tr>\n",
              "      <th>2</th>\n",
              "      <td>1</td>\n",
              "      <td>0</td>\n",
              "      <td>0</td>\n",
              "      <td>0</td>\n",
              "      <td>0</td>\n",
              "    </tr>\n",
              "  </tbody>\n",
              "</table>\n",
              "</div>\n",
              "      <button class=\"colab-df-convert\" onclick=\"convertToInteractive('df-84d2b58b-b34d-45dc-abc4-1a770766957a')\"\n",
              "              title=\"Convert this dataframe to an interactive table.\"\n",
              "              style=\"display:none;\">\n",
              "        \n",
              "  <svg xmlns=\"http://www.w3.org/2000/svg\" height=\"24px\"viewBox=\"0 0 24 24\"\n",
              "       width=\"24px\">\n",
              "    <path d=\"M0 0h24v24H0V0z\" fill=\"none\"/>\n",
              "    <path d=\"M18.56 5.44l.94 2.06.94-2.06 2.06-.94-2.06-.94-.94-2.06-.94 2.06-2.06.94zm-11 1L8.5 8.5l.94-2.06 2.06-.94-2.06-.94L8.5 2.5l-.94 2.06-2.06.94zm10 10l.94 2.06.94-2.06 2.06-.94-2.06-.94-.94-2.06-.94 2.06-2.06.94z\"/><path d=\"M17.41 7.96l-1.37-1.37c-.4-.4-.92-.59-1.43-.59-.52 0-1.04.2-1.43.59L10.3 9.45l-7.72 7.72c-.78.78-.78 2.05 0 2.83L4 21.41c.39.39.9.59 1.41.59.51 0 1.02-.2 1.41-.59l7.78-7.78 2.81-2.81c.8-.78.8-2.07 0-2.86zM5.41 20L4 18.59l7.72-7.72 1.47 1.35L5.41 20z\"/>\n",
              "  </svg>\n",
              "      </button>\n",
              "      \n",
              "  <style>\n",
              "    .colab-df-container {\n",
              "      display:flex;\n",
              "      flex-wrap:wrap;\n",
              "      gap: 12px;\n",
              "    }\n",
              "\n",
              "    .colab-df-convert {\n",
              "      background-color: #E8F0FE;\n",
              "      border: none;\n",
              "      border-radius: 50%;\n",
              "      cursor: pointer;\n",
              "      display: none;\n",
              "      fill: #1967D2;\n",
              "      height: 32px;\n",
              "      padding: 0 0 0 0;\n",
              "      width: 32px;\n",
              "    }\n",
              "\n",
              "    .colab-df-convert:hover {\n",
              "      background-color: #E2EBFA;\n",
              "      box-shadow: 0px 1px 2px rgba(60, 64, 67, 0.3), 0px 1px 3px 1px rgba(60, 64, 67, 0.15);\n",
              "      fill: #174EA6;\n",
              "    }\n",
              "\n",
              "    [theme=dark] .colab-df-convert {\n",
              "      background-color: #3B4455;\n",
              "      fill: #D2E3FC;\n",
              "    }\n",
              "\n",
              "    [theme=dark] .colab-df-convert:hover {\n",
              "      background-color: #434B5C;\n",
              "      box-shadow: 0px 1px 3px 1px rgba(0, 0, 0, 0.15);\n",
              "      filter: drop-shadow(0px 1px 2px rgba(0, 0, 0, 0.3));\n",
              "      fill: #FFFFFF;\n",
              "    }\n",
              "  </style>\n",
              "\n",
              "      <script>\n",
              "        const buttonEl =\n",
              "          document.querySelector('#df-84d2b58b-b34d-45dc-abc4-1a770766957a button.colab-df-convert');\n",
              "        buttonEl.style.display =\n",
              "          google.colab.kernel.accessAllowed ? 'block' : 'none';\n",
              "\n",
              "        async function convertToInteractive(key) {\n",
              "          const element = document.querySelector('#df-84d2b58b-b34d-45dc-abc4-1a770766957a');\n",
              "          const dataTable =\n",
              "            await google.colab.kernel.invokeFunction('convertToInteractive',\n",
              "                                                     [key], {});\n",
              "          if (!dataTable) return;\n",
              "\n",
              "          const docLinkHtml = 'Like what you see? Visit the ' +\n",
              "            '<a target=\"_blank\" href=https://colab.research.google.com/notebooks/data_table.ipynb>data table notebook</a>'\n",
              "            + ' to learn more about interactive tables.';\n",
              "          element.innerHTML = '';\n",
              "          dataTable['output_type'] = 'display_data';\n",
              "          await google.colab.output.renderOutput(dataTable, element);\n",
              "          const docLink = document.createElement('div');\n",
              "          docLink.innerHTML = docLinkHtml;\n",
              "          element.appendChild(docLink);\n",
              "        }\n",
              "      </script>\n",
              "    </div>\n",
              "  </div>\n",
              "  "
            ],
            "text/plain": [
              "   gender  SenioCitizen  Partner  Dependents  Plan\n",
              "0       0             0        1           0     1\n",
              "1       1             0        0           0     0\n",
              "2       1             0        0           0     0"
            ]
          },
          "metadata": {},
          "execution_count": 20
        }
      ]
    },
    {
      "cell_type": "code",
      "source": [
        "df.head(3)"
      ],
      "metadata": {
        "colab": {
          "base_uri": "https://localhost:8080/",
          "height": 143
        },
        "id": "LNgltkotsAuR",
        "outputId": "6cb4aacd-1134-40ee-b025-3d9feba07229"
      },
      "execution_count": 96,
      "outputs": [
        {
          "output_type": "execute_result",
          "data": {
            "text/html": [
              "\n",
              "  <div id=\"df-ae8ea4c2-c311-4d65-abbe-354abb0b876a\">\n",
              "    <div class=\"colab-df-container\">\n",
              "      <div>\n",
              "<style scoped>\n",
              "    .dataframe tbody tr th:only-of-type {\n",
              "        vertical-align: middle;\n",
              "    }\n",
              "\n",
              "    .dataframe tbody tr th {\n",
              "        vertical-align: top;\n",
              "    }\n",
              "\n",
              "    .dataframe thead th {\n",
              "        text-align: right;\n",
              "    }\n",
              "</style>\n",
              "<table border=\"1\" class=\"dataframe\">\n",
              "  <thead>\n",
              "    <tr style=\"text-align: right;\">\n",
              "      <th></th>\n",
              "      <th>gender</th>\n",
              "      <th>SenioCitizen</th>\n",
              "      <th>Partner</th>\n",
              "      <th>Dependents</th>\n",
              "      <th>Plan</th>\n",
              "    </tr>\n",
              "  </thead>\n",
              "  <tbody>\n",
              "    <tr>\n",
              "      <th>0</th>\n",
              "      <td>0</td>\n",
              "      <td>0</td>\n",
              "      <td>1</td>\n",
              "      <td>0</td>\n",
              "      <td>1</td>\n",
              "    </tr>\n",
              "    <tr>\n",
              "      <th>1</th>\n",
              "      <td>1</td>\n",
              "      <td>0</td>\n",
              "      <td>0</td>\n",
              "      <td>0</td>\n",
              "      <td>0</td>\n",
              "    </tr>\n",
              "    <tr>\n",
              "      <th>2</th>\n",
              "      <td>1</td>\n",
              "      <td>0</td>\n",
              "      <td>0</td>\n",
              "      <td>0</td>\n",
              "      <td>0</td>\n",
              "    </tr>\n",
              "  </tbody>\n",
              "</table>\n",
              "</div>\n",
              "      <button class=\"colab-df-convert\" onclick=\"convertToInteractive('df-ae8ea4c2-c311-4d65-abbe-354abb0b876a')\"\n",
              "              title=\"Convert this dataframe to an interactive table.\"\n",
              "              style=\"display:none;\">\n",
              "        \n",
              "  <svg xmlns=\"http://www.w3.org/2000/svg\" height=\"24px\"viewBox=\"0 0 24 24\"\n",
              "       width=\"24px\">\n",
              "    <path d=\"M0 0h24v24H0V0z\" fill=\"none\"/>\n",
              "    <path d=\"M18.56 5.44l.94 2.06.94-2.06 2.06-.94-2.06-.94-.94-2.06-.94 2.06-2.06.94zm-11 1L8.5 8.5l.94-2.06 2.06-.94-2.06-.94L8.5 2.5l-.94 2.06-2.06.94zm10 10l.94 2.06.94-2.06 2.06-.94-2.06-.94-.94-2.06-.94 2.06-2.06.94z\"/><path d=\"M17.41 7.96l-1.37-1.37c-.4-.4-.92-.59-1.43-.59-.52 0-1.04.2-1.43.59L10.3 9.45l-7.72 7.72c-.78.78-.78 2.05 0 2.83L4 21.41c.39.39.9.59 1.41.59.51 0 1.02-.2 1.41-.59l7.78-7.78 2.81-2.81c.8-.78.8-2.07 0-2.86zM5.41 20L4 18.59l7.72-7.72 1.47 1.35L5.41 20z\"/>\n",
              "  </svg>\n",
              "      </button>\n",
              "      \n",
              "  <style>\n",
              "    .colab-df-container {\n",
              "      display:flex;\n",
              "      flex-wrap:wrap;\n",
              "      gap: 12px;\n",
              "    }\n",
              "\n",
              "    .colab-df-convert {\n",
              "      background-color: #E8F0FE;\n",
              "      border: none;\n",
              "      border-radius: 50%;\n",
              "      cursor: pointer;\n",
              "      display: none;\n",
              "      fill: #1967D2;\n",
              "      height: 32px;\n",
              "      padding: 0 0 0 0;\n",
              "      width: 32px;\n",
              "    }\n",
              "\n",
              "    .colab-df-convert:hover {\n",
              "      background-color: #E2EBFA;\n",
              "      box-shadow: 0px 1px 2px rgba(60, 64, 67, 0.3), 0px 1px 3px 1px rgba(60, 64, 67, 0.15);\n",
              "      fill: #174EA6;\n",
              "    }\n",
              "\n",
              "    [theme=dark] .colab-df-convert {\n",
              "      background-color: #3B4455;\n",
              "      fill: #D2E3FC;\n",
              "    }\n",
              "\n",
              "    [theme=dark] .colab-df-convert:hover {\n",
              "      background-color: #434B5C;\n",
              "      box-shadow: 0px 1px 3px 1px rgba(0, 0, 0, 0.15);\n",
              "      filter: drop-shadow(0px 1px 2px rgba(0, 0, 0, 0.3));\n",
              "      fill: #FFFFFF;\n",
              "    }\n",
              "  </style>\n",
              "\n",
              "      <script>\n",
              "        const buttonEl =\n",
              "          document.querySelector('#df-ae8ea4c2-c311-4d65-abbe-354abb0b876a button.colab-df-convert');\n",
              "        buttonEl.style.display =\n",
              "          google.colab.kernel.accessAllowed ? 'block' : 'none';\n",
              "\n",
              "        async function convertToInteractive(key) {\n",
              "          const element = document.querySelector('#df-ae8ea4c2-c311-4d65-abbe-354abb0b876a');\n",
              "          const dataTable =\n",
              "            await google.colab.kernel.invokeFunction('convertToInteractive',\n",
              "                                                     [key], {});\n",
              "          if (!dataTable) return;\n",
              "\n",
              "          const docLinkHtml = 'Like what you see? Visit the ' +\n",
              "            '<a target=\"_blank\" href=https://colab.research.google.com/notebooks/data_table.ipynb>data table notebook</a>'\n",
              "            + ' to learn more about interactive tables.';\n",
              "          element.innerHTML = '';\n",
              "          dataTable['output_type'] = 'display_data';\n",
              "          await google.colab.output.renderOutput(dataTable, element);\n",
              "          const docLink = document.createElement('div');\n",
              "          docLink.innerHTML = docLinkHtml;\n",
              "          element.appendChild(docLink);\n",
              "        }\n",
              "      </script>\n",
              "    </div>\n",
              "  </div>\n",
              "  "
            ],
            "text/plain": [
              "   gender  SenioCitizen  Partner  Dependents  Plan\n",
              "0       0             0        1           0     1\n",
              "1       1             0        0           0     0\n",
              "2       1             0        0           0     0"
            ]
          },
          "metadata": {},
          "execution_count": 96
        }
      ]
    },
    {
      "cell_type": "code",
      "source": [
        "corr = df.corr()"
      ],
      "metadata": {
        "id": "TKs3jmgSrxCB"
      },
      "execution_count": 97,
      "outputs": []
    },
    {
      "cell_type": "markdown",
      "source": [
        "## Heatmap Correlation\n",
        "\n",
        "\n",
        "---\n",
        "\n"
      ],
      "metadata": {
        "id": "3hqIxyNMVbU4"
      }
    },
    {
      "cell_type": "code",
      "source": [
        "sns.heatmap(corr, cmap=\"Blues\", annot=True)"
      ],
      "metadata": {
        "colab": {
          "base_uri": "https://localhost:8080/",
          "height": 347
        },
        "id": "nVBB3SRWrz3I",
        "outputId": "1eb5aaa0-7b82-4ce8-8c39-16fc4636d871"
      },
      "execution_count": 100,
      "outputs": [
        {
          "output_type": "execute_result",
          "data": {
            "text/plain": [
              "<matplotlib.axes._subplots.AxesSubplot at 0x7f3d932fcf50>"
            ]
          },
          "metadata": {},
          "execution_count": 100
        },
        {
          "output_type": "display_data",
          "data": {
            "image/png": "[encoded data removed]",
            "text/plain": [
              "<Figure size 432x288 with 2 Axes>"
            ]
          },
          "metadata": {}
        }
      ]
    },
    {
      "cell_type": "markdown",
      "source": [
        "## Split data into test and train sets\n",
        "\n",
        "\n",
        "---\n",
        "\n"
      ],
      "metadata": {
        "id": "jlCzSgSrVHVs"
      }
    },
    {
      "cell_type": "code",
      "source": [
        "from sklearn.model_selection import train_test_split\n",
        "x = df.drop(columns=['Plan'])\n",
        "y = df['Plan']\n",
        "x_train, x_test, y_train, y_test = train_test_split(x,y,test_size=0.20)\n",
        "X_train_strat, x_test, y_train_strat, y_test = train_test_split(x,y,test_size=0.20)\n"
      ],
      "metadata": {
        "id": "ctFZxiPjXafR"
      },
      "execution_count": 13,
      "outputs": []
    },
    {
      "cell_type": "code",
      "source": [
        "X_train_strat.shape"
      ],
      "metadata": {
        "colab": {
          "base_uri": "https://localhost:8080/"
        },
        "id": "uBpI2BX7dRRM",
        "outputId": "daaccb88-2259-4729-d8a4-4ad9d479ea39"
      },
      "execution_count": 14,
      "outputs": [
        {
          "output_type": "execute_result",
          "data": {
            "text/plain": [
              "(5634, 4)"
            ]
          },
          "metadata": {},
          "execution_count": 14
        }
      ]
    },
    {
      "cell_type": "code",
      "source": [
        "x_test.shape"
      ],
      "metadata": {
        "colab": {
          "base_uri": "https://localhost:8080/"
        },
        "id": "lIHXGyIzdkk0",
        "outputId": "f8833273-d251-4327-b8d7-51d95387e1b3"
      },
      "execution_count": 15,
      "outputs": [
        {
          "output_type": "execute_result",
          "data": {
            "text/plain": [
              "(1409, 4)"
            ]
          },
          "metadata": {},
          "execution_count": 15
        }
      ]
    },
    {
      "cell_type": "markdown",
      "source": [
        "## Logistic Regression\n",
        "\n",
        "\n",
        "---\n",
        "\n"
      ],
      "metadata": {
        "id": "Bx189Q1yI1GF"
      }
    },
    {
      "cell_type": "code",
      "source": [
        "from sklearn.linear_model import LogisticRegression\n",
        "model = LogisticRegression()"
      ],
      "metadata": {
        "id": "OCcm0bFpOD0I"
      },
      "execution_count": 16,
      "outputs": []
    },
    {
      "cell_type": "code",
      "source": [
        "model.fit(X_train_strat, y_train_strat)"
      ],
      "metadata": {
        "colab": {
          "base_uri": "https://localhost:8080/"
        },
        "id": "94T6g-gNOWU5",
        "outputId": "37b8ee2d-b2d2-459c-fb8a-585c929ef7ad"
      },
      "execution_count": 17,
      "outputs": [
        {
          "output_type": "execute_result",
          "data": {
            "text/plain": [
              "LogisticRegression()"
            ]
          },
          "metadata": {},
          "execution_count": 17
        }
      ]
    },
    {
      "cell_type": "code",
      "source": [
        "print(\"Accuracy:\", model.score(x_test, y_test) *100)"
      ],
      "metadata": {
        "colab": {
          "base_uri": "https://localhost:8080/"
        },
        "id": "Hr5hb2JGOrln",
        "outputId": "04cff915-f19d-49c2-9733-c85079453edf"
      },
      "execution_count": 18,
      "outputs": [
        {
          "output_type": "stream",
          "name": "stdout",
          "text": [
            "Accuracy: 70.54648687012065\n"
          ]
        }
      ]
    },
    {
      "cell_type": "markdown",
      "source": [
        "## KNN\n",
        "\n",
        "\n",
        "---\n",
        "\n"
      ],
      "metadata": {
        "id": "_GRnqgGeI9Ke"
      }
    },
    {
      "cell_type": "code",
      "source": [
        "from sklearn.neighbors import KNeighborsClassifier\n",
        "model = KNeighborsClassifier()"
      ],
      "metadata": {
        "id": "BnewNmp6PXJr"
      },
      "execution_count": 19,
      "outputs": []
    },
    {
      "cell_type": "code",
      "source": [
        "model.fit(X_train_strat, y_train_strat)"
      ],
      "metadata": {
        "colab": {
          "base_uri": "https://localhost:8080/"
        },
        "id": "9PbgAIxePvMV",
        "outputId": "09266cca-5c36-40e2-b227-cc85ce82b164"
      },
      "execution_count": 20,
      "outputs": [
        {
          "output_type": "execute_result",
          "data": {
            "text/plain": [
              "KNeighborsClassifier()"
            ]
          },
          "metadata": {},
          "execution_count": 20
        }
      ]
    },
    {
      "cell_type": "code",
      "source": [
        "print(\"Accuracy:\", model.score(x_test, y_test) *100)"
      ],
      "metadata": {
        "colab": {
          "base_uri": "https://localhost:8080/"
        },
        "id": "ZNZGoEdpQXPr",
        "outputId": "259a9936-ff2f-4974-8a78-4058d90909cc"
      },
      "execution_count": 21,
      "outputs": [
        {
          "output_type": "stream",
          "name": "stdout",
          "text": [
            "Accuracy: 60.2555003548616\n"
          ]
        }
      ]
    },
    {
      "cell_type": "markdown",
      "source": [
        "## Decision Tree\n",
        "\n",
        "\n",
        "---\n",
        "\n"
      ],
      "metadata": {
        "id": "nm7TCZxEJByu"
      }
    },
    {
      "cell_type": "code",
      "source": [
        "from sklearn.tree import DecisionTreeClassifier\n",
        "model = DecisionTreeClassifier()"
      ],
      "metadata": {
        "id": "leA0f2fGQjNa"
      },
      "execution_count": 22,
      "outputs": []
    },
    {
      "cell_type": "code",
      "source": [
        "model.fit(X_train_strat, y_train_strat)"
      ],
      "metadata": {
        "colab": {
          "base_uri": "https://localhost:8080/"
        },
        "id": "TvkyqyhGTQns",
        "outputId": "df0eaec2-807b-49f3-f4e9-5d2dcd8cba27"
      },
      "execution_count": 23,
      "outputs": [
        {
          "output_type": "execute_result",
          "data": {
            "text/plain": [
              "DecisionTreeClassifier()"
            ]
          },
          "metadata": {},
          "execution_count": 23
        }
      ]
    },
    {
      "cell_type": "code",
      "source": [
        "print(\"Accuracy:\", model.score(x_test, y_test) *100)"
      ],
      "metadata": {
        "colab": {
          "base_uri": "https://localhost:8080/"
        },
        "id": "4vW1BAcBTTK-",
        "outputId": "7c2aa832-87eb-4782-e9a6-45463b4f12c7"
      },
      "execution_count": 24,
      "outputs": [
        {
          "output_type": "stream",
          "name": "stdout",
          "text": [
            "Accuracy: 69.55287437899219\n"
          ]
        }
      ]
    },
    {
      "cell_type": "markdown",
      "source": [
        "## Tensorflow\n",
        "\n",
        "\n",
        "---\n",
        "\n"
      ],
      "metadata": {
        "id": "iWQlWYVTNoPk"
      }
    },
    {
      "cell_type": "code",
      "source": [
        "import tensorflow as tf\n",
        "from tensorflow import keras\n",
        "\n",
        "\n",
        "model = keras.Sequential([\n",
        "    keras.layers.Dense(4, input_shape=(4,), activation='relu'),\n",
        "    keras.layers.Dense(1, activation='sigmoid')])\n",
        "\n",
        "model.compile(optimizer='adam',\n",
        "              loss='binary_crossentropy',\n",
        "              metrics=['accuracy'])\n",
        "\n",
        "model.fit(X_train_strat, y_train_strat, epochs=100)"
      ],
      "metadata": {
        "id": "A3shJzcrJ-7J",
        "colab": {
          "base_uri": "https://localhost:8080/"
        },
        "outputId": "e3942252-79fd-45cc-f995-f990dd042484"
      },
      "execution_count": 25,
      "outputs": [
        {
          "output_type": "stream",
          "name": "stdout",
          "text": [
            "Epoch 1/100\n",
            "177/177 [==============================] - 1s 2ms/step - loss: 0.6750 - accuracy: 0.5751\n",
            "Epoch 2/100\n",
            "177/177 [==============================] - 0s 2ms/step - loss: 0.6284 - accuracy: 0.6812\n",
            "Epoch 3/100\n",
            "177/177 [==============================] - 0s 2ms/step - loss: 0.6171 - accuracy: 0.6818\n",
            "Epoch 4/100\n",
            "177/177 [==============================] - 0s 2ms/step - loss: 0.6125 - accuracy: 0.6818\n",
            "Epoch 5/100\n",
            "177/177 [==============================] - 0s 2ms/step - loss: 0.6105 - accuracy: 0.6818\n",
            "Epoch 6/100\n",
            "177/177 [==============================] - 0s 2ms/step - loss: 0.6092 - accuracy: 0.6818\n",
            "Epoch 7/100\n",
            "177/177 [==============================] - 0s 2ms/step - loss: 0.6080 - accuracy: 0.6818\n",
            "Epoch 8/100\n",
            "177/177 [==============================] - 0s 2ms/step - loss: 0.6064 - accuracy: 0.6818\n",
            "Epoch 9/100\n",
            "177/177 [==============================] - 0s 2ms/step - loss: 0.6058 - accuracy: 0.6818\n",
            "Epoch 10/100\n",
            "177/177 [==============================] - 0s 2ms/step - loss: 0.6053 - accuracy: 0.6818\n",
            "Epoch 11/100\n",
            "177/177 [==============================] - 0s 2ms/step - loss: 0.6050 - accuracy: 0.6818\n",
            "Epoch 12/100\n",
            "177/177 [==============================] - 0s 2ms/step - loss: 0.6048 - accuracy: 0.6818\n",
            "Epoch 13/100\n",
            "177/177 [==============================] - 0s 2ms/step - loss: 0.6046 - accuracy: 0.6818\n",
            "Epoch 14/100\n",
            "177/177 [==============================] - 0s 2ms/step - loss: 0.6044 - accuracy: 0.6818\n",
            "Epoch 15/100\n",
            "177/177 [==============================] - 0s 2ms/step - loss: 0.6043 - accuracy: 0.6818\n",
            "Epoch 16/100\n",
            "177/177 [==============================] - 0s 2ms/step - loss: 0.6043 - accuracy: 0.6818\n",
            "Epoch 17/100\n",
            "177/177 [==============================] - 0s 2ms/step - loss: 0.6041 - accuracy: 0.6818\n",
            "Epoch 18/100\n",
            "177/177 [==============================] - 0s 2ms/step - loss: 0.6040 - accuracy: 0.6818\n",
            "Epoch 19/100\n",
            "177/177 [==============================] - 0s 1ms/step - loss: 0.6040 - accuracy: 0.6818\n",
            "Epoch 20/100\n",
            "177/177 [==============================] - 0s 2ms/step - loss: 0.6040 - accuracy: 0.6818\n",
            "Epoch 21/100\n",
            "177/177 [==============================] - 0s 2ms/step - loss: 0.6039 - accuracy: 0.6818\n",
            "Epoch 22/100\n",
            "177/177 [==============================] - 0s 2ms/step - loss: 0.6038 - accuracy: 0.6818\n",
            "Epoch 23/100\n",
            "177/177 [==============================] - 0s 2ms/step - loss: 0.6037 - accuracy: 0.6818\n",
            "Epoch 24/100\n",
            "177/177 [==============================] - 0s 2ms/step - loss: 0.6037 - accuracy: 0.6818\n",
            "Epoch 25/100\n",
            "177/177 [==============================] - 0s 2ms/step - loss: 0.6036 - accuracy: 0.6818\n",
            "Epoch 26/100\n",
            "177/177 [==============================] - 0s 2ms/step - loss: 0.6036 - accuracy: 0.6818\n",
            "Epoch 27/100\n",
            "177/177 [==============================] - 0s 2ms/step - loss: 0.6035 - accuracy: 0.6818\n",
            "Epoch 28/100\n",
            "177/177 [==============================] - 0s 2ms/step - loss: 0.6034 - accuracy: 0.6818\n",
            "Epoch 29/100\n",
            "177/177 [==============================] - 0s 2ms/step - loss: 0.6034 - accuracy: 0.6818\n",
            "Epoch 30/100\n",
            "177/177 [==============================] - 0s 2ms/step - loss: 0.6033 - accuracy: 0.6818\n",
            "Epoch 31/100\n",
            "177/177 [==============================] - 0s 2ms/step - loss: 0.6031 - accuracy: 0.6818\n",
            "Epoch 32/100\n",
            "177/177 [==============================] - 0s 1ms/step - loss: 0.6030 - accuracy: 0.6818\n",
            "Epoch 33/100\n",
            "177/177 [==============================] - 0s 2ms/step - loss: 0.6031 - accuracy: 0.6818\n",
            "Epoch 34/100\n",
            "177/177 [==============================] - 0s 2ms/step - loss: 0.6031 - accuracy: 0.6818\n",
            "Epoch 35/100\n",
            "177/177 [==============================] - 0s 2ms/step - loss: 0.6029 - accuracy: 0.6818\n",
            "Epoch 36/100\n",
            "177/177 [==============================] - 0s 2ms/step - loss: 0.6029 - accuracy: 0.6818\n",
            "Epoch 37/100\n",
            "177/177 [==============================] - 0s 2ms/step - loss: 0.6028 - accuracy: 0.6818\n",
            "Epoch 38/100\n",
            "177/177 [==============================] - 0s 2ms/step - loss: 0.6030 - accuracy: 0.6818\n",
            "Epoch 39/100\n",
            "177/177 [==============================] - 0s 2ms/step - loss: 0.6027 - accuracy: 0.6818\n",
            "Epoch 40/100\n",
            "177/177 [==============================] - 0s 2ms/step - loss: 0.6027 - accuracy: 0.6818\n",
            "Epoch 41/100\n",
            "177/177 [==============================] - 0s 2ms/step - loss: 0.6026 - accuracy: 0.6818\n",
            "Epoch 42/100\n",
            "177/177 [==============================] - 0s 2ms/step - loss: 0.6026 - accuracy: 0.6818\n",
            "Epoch 43/100\n",
            "177/177 [==============================] - 0s 2ms/step - loss: 0.6027 - accuracy: 0.6818\n",
            "Epoch 44/100\n",
            "177/177 [==============================] - 0s 2ms/step - loss: 0.6027 - accuracy: 0.6818\n",
            "Epoch 45/100\n",
            "177/177 [==============================] - 0s 2ms/step - loss: 0.6027 - accuracy: 0.6818\n",
            "Epoch 46/100\n",
            "177/177 [==============================] - 0s 2ms/step - loss: 0.6026 - accuracy: 0.6818\n",
            "Epoch 47/100\n",
            "177/177 [==============================] - 0s 2ms/step - loss: 0.6025 - accuracy: 0.6818\n",
            "Epoch 48/100\n",
            "177/177 [==============================] - 0s 2ms/step - loss: 0.6023 - accuracy: 0.6818\n",
            "Epoch 49/100\n",
            "177/177 [==============================] - 0s 2ms/step - loss: 0.6027 - accuracy: 0.6818\n",
            "Epoch 50/100\n",
            "177/177 [==============================] - 0s 2ms/step - loss: 0.6026 - accuracy: 0.6818\n",
            "Epoch 51/100\n",
            "177/177 [==============================] - 0s 2ms/step - loss: 0.6025 - accuracy: 0.6818\n",
            "Epoch 52/100\n",
            "177/177 [==============================] - 0s 2ms/step - loss: 0.6026 - accuracy: 0.6805\n",
            "Epoch 53/100\n",
            "177/177 [==============================] - 0s 2ms/step - loss: 0.6025 - accuracy: 0.6818\n",
            "Epoch 54/100\n",
            "177/177 [==============================] - 0s 2ms/step - loss: 0.6025 - accuracy: 0.6818\n",
            "Epoch 55/100\n",
            "177/177 [==============================] - 0s 2ms/step - loss: 0.6024 - accuracy: 0.6818\n",
            "Epoch 56/100\n",
            "177/177 [==============================] - 0s 2ms/step - loss: 0.6024 - accuracy: 0.6814\n",
            "Epoch 57/100\n",
            "177/177 [==============================] - 0s 2ms/step - loss: 0.6025 - accuracy: 0.6818\n",
            "Epoch 58/100\n",
            "177/177 [==============================] - 0s 2ms/step - loss: 0.6024 - accuracy: 0.6826\n",
            "Epoch 59/100\n",
            "177/177 [==============================] - 0s 2ms/step - loss: 0.6024 - accuracy: 0.6803\n",
            "Epoch 60/100\n",
            "177/177 [==============================] - 0s 2ms/step - loss: 0.6024 - accuracy: 0.6816\n",
            "Epoch 61/100\n",
            "177/177 [==============================] - 0s 2ms/step - loss: 0.6024 - accuracy: 0.6834\n",
            "Epoch 62/100\n",
            "177/177 [==============================] - 0s 2ms/step - loss: 0.6025 - accuracy: 0.6807\n",
            "Epoch 63/100\n",
            "177/177 [==============================] - 0s 2ms/step - loss: 0.6025 - accuracy: 0.6819\n",
            "Epoch 64/100\n",
            "177/177 [==============================] - 0s 2ms/step - loss: 0.6023 - accuracy: 0.6821\n",
            "Epoch 65/100\n",
            "177/177 [==============================] - 0s 2ms/step - loss: 0.6025 - accuracy: 0.6834\n",
            "Epoch 66/100\n",
            "177/177 [==============================] - 0s 2ms/step - loss: 0.6023 - accuracy: 0.6837\n",
            "Epoch 67/100\n",
            "177/177 [==============================] - 0s 2ms/step - loss: 0.6023 - accuracy: 0.6830\n",
            "Epoch 68/100\n",
            "177/177 [==============================] - 0s 1ms/step - loss: 0.6025 - accuracy: 0.6825\n",
            "Epoch 69/100\n",
            "177/177 [==============================] - 0s 2ms/step - loss: 0.6023 - accuracy: 0.6846\n",
            "Epoch 70/100\n",
            "177/177 [==============================] - 0s 2ms/step - loss: 0.6023 - accuracy: 0.6819\n",
            "Epoch 71/100\n",
            "177/177 [==============================] - 0s 2ms/step - loss: 0.6023 - accuracy: 0.6830\n",
            "Epoch 72/100\n",
            "177/177 [==============================] - 0s 2ms/step - loss: 0.6023 - accuracy: 0.6819\n",
            "Epoch 73/100\n",
            "177/177 [==============================] - 0s 2ms/step - loss: 0.6025 - accuracy: 0.6823\n",
            "Epoch 74/100\n",
            "177/177 [==============================] - 0s 2ms/step - loss: 0.6024 - accuracy: 0.6835\n",
            "Epoch 75/100\n",
            "177/177 [==============================] - 0s 2ms/step - loss: 0.6024 - accuracy: 0.6826\n",
            "Epoch 76/100\n",
            "177/177 [==============================] - 0s 2ms/step - loss: 0.6022 - accuracy: 0.6839\n",
            "Epoch 77/100\n",
            "177/177 [==============================] - 0s 2ms/step - loss: 0.6025 - accuracy: 0.6834\n",
            "Epoch 78/100\n",
            "177/177 [==============================] - 0s 2ms/step - loss: 0.6023 - accuracy: 0.6826\n",
            "Epoch 79/100\n",
            "177/177 [==============================] - 0s 2ms/step - loss: 0.6023 - accuracy: 0.6834\n",
            "Epoch 80/100\n",
            "177/177 [==============================] - 0s 2ms/step - loss: 0.6024 - accuracy: 0.6834\n",
            "Epoch 81/100\n",
            "177/177 [==============================] - 0s 2ms/step - loss: 0.6023 - accuracy: 0.6832\n",
            "Epoch 82/100\n",
            "177/177 [==============================] - 0s 1ms/step - loss: 0.6023 - accuracy: 0.6834\n",
            "Epoch 83/100\n",
            "177/177 [==============================] - 0s 2ms/step - loss: 0.6023 - accuracy: 0.6828\n",
            "Epoch 84/100\n",
            "177/177 [==============================] - 0s 2ms/step - loss: 0.6023 - accuracy: 0.6834\n",
            "Epoch 85/100\n",
            "177/177 [==============================] - 0s 2ms/step - loss: 0.6024 - accuracy: 0.6834\n",
            "Epoch 86/100\n",
            "177/177 [==============================] - 0s 2ms/step - loss: 0.6021 - accuracy: 0.6830\n",
            "Epoch 87/100\n",
            "177/177 [==============================] - 0s 2ms/step - loss: 0.6025 - accuracy: 0.6825\n",
            "Epoch 88/100\n",
            "177/177 [==============================] - 0s 2ms/step - loss: 0.6023 - accuracy: 0.6818\n",
            "Epoch 89/100\n",
            "177/177 [==============================] - 0s 2ms/step - loss: 0.6024 - accuracy: 0.6834\n",
            "Epoch 90/100\n",
            "177/177 [==============================] - 0s 2ms/step - loss: 0.6022 - accuracy: 0.6834\n",
            "Epoch 91/100\n",
            "177/177 [==============================] - 0s 2ms/step - loss: 0.6023 - accuracy: 0.6834\n",
            "Epoch 92/100\n",
            "177/177 [==============================] - 0s 2ms/step - loss: 0.6024 - accuracy: 0.6834\n",
            "Epoch 93/100\n",
            "177/177 [==============================] - 0s 2ms/step - loss: 0.6023 - accuracy: 0.6841\n",
            "Epoch 94/100\n",
            "177/177 [==============================] - 0s 2ms/step - loss: 0.6023 - accuracy: 0.6830\n",
            "Epoch 95/100\n",
            "177/177 [==============================] - 0s 2ms/step - loss: 0.6024 - accuracy: 0.6825\n",
            "Epoch 96/100\n",
            "177/177 [==============================] - 0s 2ms/step - loss: 0.6023 - accuracy: 0.6805\n",
            "Epoch 97/100\n",
            "177/177 [==============================] - 0s 2ms/step - loss: 0.6023 - accuracy: 0.6810\n",
            "Epoch 98/100\n",
            "177/177 [==============================] - 0s 2ms/step - loss: 0.6023 - accuracy: 0.6823\n",
            "Epoch 99/100\n",
            "177/177 [==============================] - 0s 2ms/step - loss: 0.6024 - accuracy: 0.6832\n",
            "Epoch 100/100\n",
            "177/177 [==============================] - 0s 2ms/step - loss: 0.6022 - accuracy: 0.6803\n"
          ]
        },
        {
          "output_type": "execute_result",
          "data": {
            "text/plain": [
              "<keras.callbacks.History at 0x7f3d9982ba90>"
            ]
          },
          "metadata": {},
          "execution_count": 25
        }
      ]
    },
    {
      "cell_type": "code",
      "source": [
        "model.evaluate(x_test, y_test)"
      ],
      "metadata": {
        "colab": {
          "base_uri": "https://localhost:8080/"
        },
        "id": "C3PEFb_INtTL",
        "outputId": "5502b8df-a887-4a62-cc0e-e5cfc45dbcd2"
      },
      "execution_count": 26,
      "outputs": [
        {
          "output_type": "stream",
          "name": "stdout",
          "text": [
            "45/45 [==============================] - 0s 1ms/step - loss: 0.5901 - accuracy: 0.6955\n"
          ]
        },
        {
          "output_type": "execute_result",
          "data": {
            "text/plain": [
              "[0.5900917053222656, 0.6955287456512451]"
            ]
          },
          "metadata": {},
          "execution_count": 26
        }
      ]
    },
    {
      "cell_type": "code",
      "source": [
        "yp = model.predict(x_test)"
      ],
      "metadata": {
        "id": "E9yvyNR1N0YF"
      },
      "execution_count": 27,
      "outputs": []
    },
    {
      "cell_type": "code",
      "source": [
        "y_pred = []\n",
        "for element in yp:\n",
        "    if element > 0.5:\n",
        "        y_pred.append(1)\n",
        "    else:\n",
        "        y_pred.append(0)"
      ],
      "metadata": {
        "id": "NEK9Rd02N6Qe"
      },
      "execution_count": 28,
      "outputs": []
    },
    {
      "cell_type": "markdown",
      "source": [
        "##Precision, Recall, and F1-Score\n",
        "\n",
        "\n",
        "---\n",
        "\n"
      ],
      "metadata": {
        "id": "0BUYKWSmVQvQ"
      }
    },
    {
      "cell_type": "code",
      "source": [
        "from sklearn.metrics import confusion_matrix , classification_report\n",
        "\n",
        "print(classification_report(y_test,y_pred))"
      ],
      "metadata": {
        "colab": {
          "base_uri": "https://localhost:8080/"
        },
        "id": "U76vFeh7N_aU",
        "outputId": "e9610dcf-c06e-4883-8a33-450501eb13f3"
      },
      "execution_count": 29,
      "outputs": [
        {
          "output_type": "stream",
          "name": "stdout",
          "text": [
            "              precision    recall  f1-score   support\n",
            "\n",
            "           0       0.71      0.97      0.82       994\n",
            "           1       0.33      0.03      0.06       415\n",
            "\n",
            "    accuracy                           0.70      1409\n",
            "   macro avg       0.52      0.50      0.44      1409\n",
            "weighted avg       0.59      0.70      0.59      1409\n",
            "\n"
          ]
        }
      ]
    },
    {
      "cell_type": "markdown",
      "source": [
        "## Confusion matrix\n",
        "\n",
        "\n",
        "---\n",
        "\n",
        "*italicized text*"
      ],
      "metadata": {
        "id": "P4W8jW8MOMeW"
      }
    },
    {
      "cell_type": "code",
      "source": [
        "import seaborn as sn\n",
        "cm = tf.math.confusion_matrix(labels=y_test,predictions=y_pred)\n",
        "\n",
        "plt.figure(figsize = (10,7))\n",
        "sn.heatmap(cm, annot=True, fmt='d')\n",
        "plt.xlabel('Predicted')\n",
        "plt.ylabel('Truth')"
      ],
      "metadata": {
        "colab": {
          "base_uri": "https://localhost:8080/",
          "height": 465
        },
        "id": "UxnSELE1OFZ9",
        "outputId": "592883eb-791b-46e6-9e5b-3a65d9afe7d8"
      },
      "execution_count": 30,
      "outputs": [
        {
          "output_type": "execute_result",
          "data": {
            "text/plain": [
              "Text(66.5, 0.5, 'Truth')"
            ]
          },
          "metadata": {},
          "execution_count": 30
        },
        {
          "output_type": "display_data",
          "data": {
            "image/png": "[encoded data removed]",
            "text/plain": [
              "<Figure size 720x504 with 2 Axes>"
            ]
          },
          "metadata": {
            "needs_background": "light"
          }
        }
      ]
    }
  ]
}